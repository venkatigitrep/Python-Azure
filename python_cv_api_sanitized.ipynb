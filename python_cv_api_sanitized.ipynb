{
 "cells": [
  {
   "cell_type": "code",
   "execution_count": null,
   "metadata": {},
   "outputs": [],
   "source": [
    "import requests\n",
    "%matplotlib inline\n",
    "import matplotlib.pyplot as plt\n",
    "import json \n",
    "from PIL import Image\n",
    "from io import BytesIO"
   ]
  },
  {
   "cell_type": "code",
   "execution_count": null,
   "metadata": {},
   "outputs": [],
   "source": [
    "#save subscription key and end_point as variables\n",
    "my_cv_sub_key = \"<REPLACE WITH YOUR SUB KEY>\"\n",
    "my_cv_end_point = \"<REPLACE WITH YORU ENDPOINT>\""
   ]
  },
  {
   "cell_type": "code",
   "execution_count": null,
   "metadata": {},
   "outputs": [],
   "source": [
    "# build the rest of the uri\n",
    "my_analyze_url = my_cv_end_point + \"vision/v2.1/analyze\"\n",
    "my_analyze_url"
   ]
  },
  {
   "cell_type": "code",
   "execution_count": null,
   "metadata": {},
   "outputs": [],
   "source": [
    "#my_image_url = \"https://upload.wikimedia.org/wikipedia/commons/thumb/9/97/Pont_des_Arts%2C_Paris.jpg/2560px-Pont_des_Arts%2C_Paris.jpg\"\n",
    "#my_image_url = \"https://upload.wikimedia.org/wikipedia/commons/thumb/e/e6/Paris_Night.jpg/2560px-Paris_Night.jpg\"\n",
    "my_image_url = \"https://upload.wikimedia.org/wikipedia/commons/thumb/8/8a/Paris_vue_d%27ensemble_tour_Eiffel.jpg/1920px-Paris_vue_d%27ensemble_tour_Eiffel.jpg\""
   ]
  },
  {
   "cell_type": "code",
   "execution_count": null,
   "metadata": {},
   "outputs": [],
   "source": [
    "#configure the requests object - this is how we send the request to the api\n",
    "headers = {'Ocp-Apim-Subscription-Key': my_cv_sub_key}\n",
    "print(headers)\n",
    "params = {'visualFeatures':'Categories,Description,Objects'}\n",
    "print(params)\n",
    "data = {'url': my_image_url}\n",
    "print(data)\n",
    "response = requests.post(my_analyze_url, headers=headers,params=params,json=data)\n",
    "print(type(response))\n",
    "response"
   ]
  },
  {
   "cell_type": "code",
   "execution_count": null,
   "metadata": {},
   "outputs": [],
   "source": [
    "#store the results in the analysis object\n",
    "analysis=response.json()\n",
    "print(type(analysis))\n",
    "print(analysis)"
   ]
  },
  {
   "cell_type": "code",
   "execution_count": null,
   "metadata": {},
   "outputs": [],
   "source": [
    "#Display the image with the caption\n",
    "image = Image.open(BytesIO(requests.get(my_image_url).content))\n",
    "plt.imshow(image)\n",
    "plt.axis(\"off\")\n",
    "_ = plt.title(analysis[\"description\"][\"captions\"][0][\"text\"].capitalize(), size=\"large\")\n",
    "plt.show()\n"
   ]
  },
  {
   "cell_type": "code",
   "execution_count": null,
   "metadata": {},
   "outputs": [],
   "source": []
  }
 ],
 "metadata": {
  "kernelspec": {
   "display_name": "Python 3",
   "language": "python",
   "name": "python3"
  },
  "language_info": {
   "codemirror_mode": {
    "name": "ipython",
    "version": 3
   },
   "file_extension": ".py",
   "mimetype": "text/x-python",
   "name": "python",
   "nbconvert_exporter": "python",
   "pygments_lexer": "ipython3",
   "version": "3.7.4"
  }
 },
 "nbformat": 4,
 "nbformat_minor": 4
}
