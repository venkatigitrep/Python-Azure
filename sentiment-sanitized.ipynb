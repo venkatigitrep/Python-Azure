{
 "cells": [
  {
   "cell_type": "code",
   "execution_count": null,
   "metadata": {},
   "outputs": [],
   "source": [
    "!pip install --upgrade requests"
   ]
  },
  {
   "cell_type": "code",
   "execution_count": null,
   "metadata": {},
   "outputs": [],
   "source": [
    "import requests\n",
    "from pprint import pprint"
   ]
  },
  {
   "cell_type": "code",
   "execution_count": null,
   "metadata": {},
   "outputs": [],
   "source": [
    "sub_key = \"<REPLACE WITH YOUR API SUBSCRIPTION KEY>\"\n",
    "assert sub_key"
   ]
  },
  {
   "cell_type": "code",
   "execution_count": null,
   "metadata": {},
   "outputs": [],
   "source": [
    "base_url = \"<REPLACE WITH YOUR ENDPOINT>\"\n",
    "sent_api_url = base_url + \"/text/analytics/v2.1/sentiment\""
   ]
  },
  {
   "cell_type": "code",
   "execution_count": null,
   "metadata": {},
   "outputs": [],
   "source": [
    "documents = { 'documents': [ {\"id\": \"1\", \"language\": \"en\", \"text\": \"A long long time ago I can still remember how That music used to make me smile And I knew if I had my chance That I could make those people dance And maybe they'd be happy for a while But February made me shiver With every paper I'd deliver Bad news on the doorstep I couldn't take one more step I can't remember if I cried When I read about his widowed bride Something touched me deep inside The day the music died\"} ] }"
   ]
  },
  {
   "cell_type": "code",
   "execution_count": null,
   "metadata": {},
   "outputs": [],
   "source": [
    "headers = {\"Ocp-Apim-Subscription-Key\": sub_key}\n",
    "response = requests.post(sent_api_url, headers=headers,json=documents)\n",
    "sentiments = response.json()\n",
    "pprint(sentiments)\n",
    "\n",
    "           "
   ]
  },
  {
   "cell_type": "code",
   "execution_count": null,
   "metadata": {},
   "outputs": [],
   "source": [
    "# Let's look at individual lines in the song\n",
    "documents = { \"documents\": [ \n",
    "{\"id\": \"1\", \"language\": \"en\", \"text\": \"A long long time ago I can still remember how That music used to make me smile\"}, \n",
    "{\"id\": \"2\", \"language\": \"en\", \"text\" : \"And I knew if I had my chance That I could make those people dance And maybe they'd be happy for a while\"},\n",
    "{\"id\": \"3\", \"language\": \"en\", \"text\" : \"But February made me shiver With every paper I'd deliver\"},\n",
    "{\"id\": \"4\", \"language\": \"en\", \"text\": \"Bad news on the doorstep I couldn't take one more step\"},\n",
    "{\"id\": \"5\", \"language\": \"en\", \"text\": \"I can't remember if I cried When I read about his widowed bride\"},\n",
    "{\"id\": \"6\", \"language\": \"en\", \"text\": \"Something touched me deep inside The day the music died\"} ] }\n"
   ]
  },
  {
   "cell_type": "code",
   "execution_count": null,
   "metadata": {},
   "outputs": [],
   "source": [
    "headers = {\"Ocp-Apim-Subscription-Key\": sub_key}\n",
    "response = requests.post(sent_api_url, headers=headers,json=documents)\n",
    "sentiments = response.json()\n",
    "pprint(sentiments)"
   ]
  },
  {
   "cell_type": "code",
   "execution_count": null,
   "metadata": {},
   "outputs": [],
   "source": [
    "documents = { \"documents\": [ \n",
    "{\"id\": \"1\", \"text\": \"A long long time ago I can still remember how That music used to make me smile\"}, \n",
    "{\"id\": \"2\", \"text\": \"Mi gusto el futbol!\"},    \n",
    "{\"id\": \"3\", \"text\": \"Parlez vous francais?\"} ]}\n",
    "\n",
    "lang_api = base_url + \"/text/analytics/v2.1/languages\"\n",
    "\n",
    "response = requests.post(lang_api, headers=headers,json=documents)\n",
    "languages = response.json()\n",
    "pprint(languages)\n"
   ]
  },
  {
   "cell_type": "code",
   "execution_count": null,
   "metadata": {},
   "outputs": [],
   "source": [
    "documents = { \"documents\": [ \n",
    "{\"id\": \"1\", \"text\": \"I would like to travel to Paris.\"}, \n",
    "{\"id\": \"2\", \"text\": \"My favorite book is \"\"The hobbit\"\", by J.R.R. Tolkien.\"},    \n",
    "{\"id\": \"3\", \"text\": \"Would you like to visit the Statue of Liberty in New York city?\"} ]}\n",
    "\n",
    "entities_api = base_url + \"/text/analytics/v2.1/entities\"\n",
    "\n",
    "response = requests.post(entities_api, headers=headers,json=documents)\n",
    "languages = response.json()\n",
    "pprint(languages)\n"
   ]
  },
  {
   "cell_type": "code",
   "execution_count": null,
   "metadata": {},
   "outputs": [],
   "source": []
  }
 ],
 "metadata": {
  "kernelspec": {
   "display_name": "Python 3",
   "language": "python",
   "name": "python3"
  },
  "language_info": {
   "codemirror_mode": {
    "name": "ipython",
    "version": 3
   },
   "file_extension": ".py",
   "mimetype": "text/x-python",
   "name": "python",
   "nbconvert_exporter": "python",
   "pygments_lexer": "ipython3",
   "version": "3.7.4"
  }
 },
 "nbformat": 4,
 "nbformat_minor": 4
}
